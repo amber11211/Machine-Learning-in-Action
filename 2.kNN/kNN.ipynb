{
 "cells": [
  {
   "cell_type": "markdown",
   "metadata": {},
   "source": [
    "k近邻算法；\n",
    "2.1.1准备：使用python导入数据。导入模块：科学计算包Numpy，运算符模块；createDataSet()函数：创建数据集和标签"
   ]
  },
  {
   "cell_type": "code",
   "execution_count": 1,
   "metadata": {},
   "outputs": [],
   "source": [
    "from numpy import *\n",
    "import operator\n",
    "\n",
    "def createDataSet():\n",
    "    group = array([[1.0,1.1],[1.0,1.0],[0,0],[0,0.1]])\n",
    "    labels = ['A','A','B','B']\n",
    "    return group, labels"
   ]
  },
  {
   "cell_type": "markdown",
   "metadata": {},
   "source": [
    "> import kNN\n",
    "> \n",
    "> group, labels = kNN.createDataSet()"
   ]
  },
  {
   "cell_type": "markdown",
   "metadata": {},
   "source": [
    "2.1.2实施kNN分类算法。程序清单2-1 k近邻算法。\n",
    "classify0()函数有4个输入参数：用于分类的输入变量inX，输入的训练样本集dataSet，标签向量labels，参数k表示用语选择最近邻居的数目。"
   ]
  },
  {
   "cell_type": "code",
   "execution_count": 2,
   "metadata": {},
   "outputs": [],
   "source": [
    "def classify0(inX, dataSet, labels, k):\n",
    "    dataSetSize = dataSet.shape[0]\n",
    "    diffMat = tile(inX, (dataSetSize,1))-dataSet\n",
    "    sqDiffMat = diffMat**2\n",
    "    sqDistances = sqDiffMat.sum(axis=1)\n",
    "    distances = sqDistances**0.5\n",
    "    sortedDistIndicies = distances.argsort()\n",
    "    classCount={}\n",
    "    for i in range(k):\n",
    "        voteIlabel = labels[sortedDistIndicies[i]]\n",
    "        classCount[voteIlabel] = classCount.get(voteIlabel,0) + 1\n",
    "    sortedClassCount = sorted(classCount.iteritems(),\n",
    "                             key=operator.itemgetter(1),\n",
    "                             reverse=True)\n",
    "    return sortedClassCount[0][0]"
   ]
  },
  {
   "cell_type": "markdown",
   "metadata": {},
   "source": [
    "> kNN.classify0([0.0], group, labels, 3)"
   ]
  },
  {
   "cell_type": "markdown",
   "metadata": {},
   "source": [
    "2.2.1准备数据：从文本文件中解析数据。程序清单2-2 将文本记录(datingTestSet2.txt)转换为NumPy的解析程序。file2matrix函数处理输入格式问题：输入为文件名字符串，输出为训练样本矩阵和类标签向量。"
   ]
  },
  {
   "cell_type": "code",
   "execution_count": 3,
   "metadata": {},
   "outputs": [],
   "source": [
    "def file2matrix(filename):\n",
    "    fr = open(filename)\n",
    "    arrayOLines = fr.readlines()\n",
    "    numberOfLines = len(arrayOLines)\n",
    "    returnMat = zeros((numberOfLines,3))\n",
    "    classLabelVector = []\n",
    "    index = 0\n",
    "    for line in arrayOLines:\n",
    "        line = line.strip()\n",
    "        listFromLine = line.split('\\t')\n",
    "        returnMat[index,:] = listFromLine[0:3]\n",
    "        classLabelVector.append(int(listFromLine[-1]))\n",
    "        index += 1\n",
    "    return returnMat,classLabelVector"
   ]
  },
  {
   "cell_type": "markdown",
   "metadata": {},
   "source": [
    "> reload(kNN)\n",
    ">\n",
    "> datingDataMat,datingLabels = kNN.file2matrix('datingTestSet2,txt')"
   ]
  },
  {
   "cell_type": "markdown",
   "metadata": {},
   "source": [
    "2.2.2分析数据：使用Matplotlib创建散点图。\n",
    "首先使用Matplotlib制作原始数据的散点图：\n",
    "> import matplotlib\n",
    ">\n",
    "> import matplotlib.pyplot as plt\n",
    ">\n",
    "> fig = plt.figure()\n",
    ">\n",
    "> ax=fig.add_subplot(111)\n",
    ">\n",
    "> ax.scatter(datingDataMat[:,1], datingDataMat[:,2])\n",
    ">\n",
    "> plt.show()\n",
    "\n",
    "改变样本分类的特征值：\n",
    "> ax.scatter(datingDataMat[:,1], datingDataMat[:,2], 15.0\\*array(datingLabels), 15.0\\*array(datingLabels))\n",
    "\n",
    "若错误提示未定义array：\n",
    "> from numpy import *"
   ]
  },
  {
   "cell_type": "markdown",
   "metadata": {},
   "source": [
    "2.2.3准备数据：归一化数值［newValue=(oldValue-min)/(max-min)］\n",
    "程序清单2-3 归一化特征值：函数autoNorm()自动将数字特征值转化为0到1的区间；tile()函数将变量内容复制成输入矩阵同样大小的矩阵。"
   ]
  },
  {
   "cell_type": "code",
   "execution_count": 4,
   "metadata": {},
   "outputs": [],
   "source": [
    "def autoNorm(dataSet):\n",
    "    minVals = dataSet.min(0)\n",
    "    maxVals = dataSet.max(0)\n",
    "    ranges = maxVals - minVals\n",
    "    normDataSet = zeros(shape(dataSet))\n",
    "    m = dataSet.shape[0]\n",
    "    normDataSet = dataSet- tile(minVals,(m,1))\n",
    "    normDataSet = normDataSet/tile(ranges,(m,1))\n",
    "    return normDataSet, ranges, minVals"
   ]
  },
  {
   "cell_type": "markdown",
   "metadata": {},
   "source": [
    ">reload(kNN)\n",
    "\n",
    ">normMat, ranges, minVals = kNN.autoNorm(datingDataMat)\n",
    "\n",
    ">normMat\n",
    "\n",
    ">ranges\n",
    "\n",
    ">minVals"
   ]
  },
  {
   "cell_type": "markdown",
   "metadata": {},
   "source": [
    "2.2.4测试算法：作为完整程序验证分类器\n",
    "程序清单2-4 分类器针对约会网站的测试代码：创建函数datingClassTest，使用file2matrix和autoNorm函数读取数据并归一化特征值"
   ]
  },
  {
   "cell_type": "code",
   "execution_count": 17,
   "metadata": {},
   "outputs": [],
   "source": [
    "def datingClassTest():\n",
    "    hoRatio = 0.01\n",
    "    datingDataMat, datingLabels = file2matrix('datingTestSet2.txt')\n",
    "    normMat, ranges, minVals = autoNorm(datingDataMat)\n",
    "    m = normMat.shape[0]\n",
    "    numTestVecs = int(m*hoRatio)\n",
    "    errorCount = 0.0\n",
    "    for i in range(numTestVecs):\n",
    "        classifierResult = classify0(normMat[i,:],normMat[numTestVecs:m,:],datingLabels[numTestVecs:m],3)\n",
    "        print \"the classifier came back with: %d, the real answer is: %d\"% (classifierResult, datingLabels[i])\n",
    "        if (classifierResult != datingLabels[i]): errorCount += 10\n",
    "    print \"the total error rate is: %f\" % (errorCount/float(numTestVecs))"
   ]
  },
  {
   "cell_type": "markdown",
   "metadata": {},
   "source": [
    ">kNN.datingClassTest()"
   ]
  },
  {
   "cell_type": "markdown",
   "metadata": {},
   "source": [
    "2.2.5使用算法：构建完整可用系统\n",
    "程序清单2-5 约会网站预测函数：raw_input（）函数允许用户输入文本行命令并返回用户所输入的命令。"
   ]
  },
  {
   "cell_type": "code",
   "execution_count": 18,
   "metadata": {},
   "outputs": [],
   "source": [
    "def classifyPerson():\n",
    "    resultList = ['not at all', 'in small doses', 'in large doses']\n",
    "    percentTats = float(raw_input(\"percentage of time spend playing video games?\"))\n",
    "    ffMiles = float(raw_input(\"frequent flier miles earned per year?\"))\n",
    "    iceCream = float(raw_input(\"liters of ice cream consumed per year?\"))\n",
    "    datingDataMat, datingLabels = file2matrix('datingTestSet2.txt')\n",
    "    normMat, ranges, minVals = autoNorm(datingDataMat)\n",
    "    inArr = array([ffMiles, percentTats, iceCream])\n",
    "    classifierResult = classify0((inArr - minVals) / ranges, normMat, datingLabels, 3)\n",
    "    print \"You will probably like this person: \", resultList[classifierResult - 1]"
   ]
  },
  {
   "cell_type": "markdown",
   "metadata": {},
   "source": [
    ">kNN.classifyPerson()"
   ]
  }
 ],
 "metadata": {
  "kernelspec": {
   "display_name": "Python 2",
   "language": "python",
   "name": "python2"
  },
  "language_info": {
   "codemirror_mode": {
    "name": "ipython",
    "version": 2
   },
   "file_extension": ".py",
   "mimetype": "text/x-python",
   "name": "python",
   "nbconvert_exporter": "python",
   "pygments_lexer": "ipython2",
   "version": "2.7.14"
  }
 },
 "nbformat": 4,
 "nbformat_minor": 2
}
